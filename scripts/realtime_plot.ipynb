{
 "cells": [
  {
   "cell_type": "code",
   "execution_count": 1,
   "metadata": {},
   "outputs": [],
   "source": [
    "from serial import Serial\n",
    "from serial.tools import list_ports\n",
    "from sys import platform\n",
    "import matplotlib.pyplot as plt"
   ]
  },
  {
   "cell_type": "code",
   "execution_count": null,
   "metadata": {},
   "outputs": [],
   "source": [
    "def autodetect_port():\n",
    "    l = list_ports.comports()\n",
    "    if not l:\n",
    "        raise Exception(\"No ports detected\")\n",
    "    \n",
    "    if platform == \"linux\" or platform == \"linux2\":\n",
    "        for d in l:\n",
    "            if 'ACM' in d.device or 'usbserial' in d.device:\n",
    "                port = str(d.device)\n",
    "    elif platform == \"win32\":\n",
    "        comports = []\n",
    "        for d in l:\n",
    "            if d.device:\n",
    "                devname = str(d.device)\n",
    "                comports.append(devname)\n",
    "        comports.sort()\n",
    "        port = comports[0]\n",
    "    else:\n",
    "        for d in l:\n",
    "            if d.vid:\n",
    "                port = str(d.device)\n",
    "    \n",
    "    return port"
   ]
  },
  {
   "cell_type": "code",
   "execution_count": null,
   "metadata": {},
   "outputs": [],
   "source": [
    "ser = Serial(autodetect_port(), 9600)\n",
    "ser.close()\n",
    "ser.open()"
   ]
  },
  {
   "cell_type": "code",
   "execution_count": null,
   "metadata": {},
   "outputs": [],
   "source": [
    "\n",
    "from itertools import count\n",
    "import matplotlib.pyplot as plt\n",
    "from matplotlib.animation import FuncAnimation\n",
    "\n",
    "x_vals = []\n",
    "y_vals = []\n",
    "\n",
    "index = count()\n",
    "\n",
    "def animate(i):\n",
    "    x_vals.append(next(index))\n",
    "    data = ser.readline()\n",
    "    y_vals.append(data.decode())\n",
    "\n",
    "    plt.cla()\n",
    "\n",
    "    plt.plot(x_vals, y_vals)\n",
    "\n",
    "    plt.tight_layout()\n",
    "\n",
    "\n",
    "ani = FuncAnimation(plt.gcf(), animate)\n",
    "\n",
    "plt.tight_layout()\n",
    "plt.show()\n"
   ]
  }
 ],
 "metadata": {
  "interpreter": {
   "hash": "f077dcb77af3212ef279408d057cf8f06eee6ead9739c738c5f28e34202896e1"
  },
  "kernelspec": {
   "display_name": "Python 3.8.12 ('.venv': poetry)",
   "language": "python",
   "name": "python3"
  },
  "language_info": {
   "codemirror_mode": {
    "name": "ipython",
    "version": 3
   },
   "file_extension": ".py",
   "mimetype": "text/x-python",
   "name": "python",
   "nbconvert_exporter": "python",
   "pygments_lexer": "ipython3",
   "version": "3.8.12"
  },
  "orig_nbformat": 4
 },
 "nbformat": 4,
 "nbformat_minor": 2
}
